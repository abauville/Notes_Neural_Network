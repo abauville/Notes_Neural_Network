{
 "cells": [
  {
   "cell_type": "markdown",
   "id": "8a84b1c0",
   "metadata": {},
   "source": [
    "# Solving a linear system of equation implicitly using PyTorch\n",
    "\n",
    "improvements:\n",
    "\n",
    "- use mini-batch\n",
    "    - have to sort the problem with the sparse matrix\n",
    "- optimize adam"
   ]
  },
  {
   "cell_type": "code",
   "execution_count": 1,
   "id": "4e06c6a3",
   "metadata": {},
   "outputs": [],
   "source": [
    "# imports\n",
    "import torch\n",
    "import numpy as np\n",
    "import matplotlib.pyplot as plt\n",
    "from torch import nn\n",
    "from scipy.sparse.linalg import spsolve\n",
    "import scipy\n",
    "from time import time\n",
    "import contextlib\n",
    "\n",
    "@contextlib.contextmanager\n",
    "def timer(msg='timer'):\n",
    "    tic = time()\n",
    "    yield\n",
    "    return print(f\"{msg}: {time() - tic:.2f}\")"
   ]
  },
  {
   "cell_type": "code",
   "execution_count": 38,
   "id": "d82bd9ab",
   "metadata": {},
   "outputs": [
    {
     "data": {
      "text/plain": [
       "0.5"
      ]
     },
     "execution_count": 38,
     "metadata": {},
     "output_type": "execute_result"
    }
   ],
   "source": [
    "n = 50\n",
    "\n",
    "dx_sq = (1.0/(n-1))**2#(1.0/n)**2\n",
    "K = 1.0 # diffusivity\n",
    "lr = 0.5#0.0005*dx_sq # learning rate\n",
    "s = 20.0  # source term\n",
    "lr"
   ]
  },
  {
   "cell_type": "code",
   "execution_count": 39,
   "id": "8b942f48",
   "metadata": {},
   "outputs": [],
   "source": [
    "# Define the ground truth of the RHS\n",
    "# b_gt = -s*torch.ones(n)\n",
    "b_gt = -0.5*s/K*dx_sq*torch.ones(n)\n",
    "# Apply BC to RHS\n",
    "with torch.no_grad():\n",
    "    b_gt[0] = 0.0\n",
    "    b_gt[-1] = 1.0"
   ]
  },
  {
   "cell_type": "code",
   "execution_count": 40,
   "id": "8e53026a",
   "metadata": {},
   "outputs": [],
   "source": [
    "A = np.zeros((n,n))\n",
    "# with torch.no_grad():\n",
    "for i in range(1,n-1):\n",
    "#     A[i,i-1] =  K*1.0/dx_sq\n",
    "#     A[i,i  ] = -K*2.0/dx_sq\n",
    "#     A[i,i+1] =  K*1.0/dx_sq\n",
    "    A[i,i-1] =  0.5\n",
    "    A[i,i  ] = -1.0\n",
    "    A[i,i+1] =  0.5\n",
    "# BC\n",
    "A[0,0] = 1.0\n",
    "A[-1,-1] = 1.0\n",
    "\n",
    "A_numpy = scipy.sparse.coo_matrix(A)\n",
    "# A = torch.from_numpy(A)\n",
    "A = torch.sparse_coo_tensor(np.array([A_numpy.row,A_numpy.col]),A_numpy.data,dtype=torch.float32)"
   ]
  },
  {
   "cell_type": "markdown",
   "id": "9272ed26",
   "metadata": {},
   "source": [
    "## Doing gradient descent by hand"
   ]
  },
  {
   "cell_type": "code",
   "execution_count": 41,
   "id": "9a588594",
   "metadata": {},
   "outputs": [
    {
     "name": "stdout",
     "output_type": "stream",
     "text": [
      "i: 0, loss: 2.002e-02\n",
      "i: 1000, loss: 2.202e-04\n",
      "i: 2000, loss: 1.423e-04\n",
      "i: 3000, loss: 1.124e-04\n",
      "i: 4000, loss: 9.600e-05\n",
      "i: 5000, loss: 8.539e-05\n",
      "i: 6000, loss: 7.786e-05\n",
      "i: 7000, loss: 7.221e-05\n",
      "i: 8000, loss: 6.777e-05\n",
      "i: 9000, loss: 6.417e-05\n"
     ]
    }
   ],
   "source": [
    "# Compute\n",
    "x = torch.zeros(n, requires_grad=True)\n",
    "lr = 0.5\n",
    "for i in range(10000):\n",
    "    b = A@x\n",
    "    loss = ((b-b_gt)**2).mean()\n",
    "    loss.backward()\n",
    "    with torch.no_grad():\n",
    "        x -= lr*x.grad\n",
    "        if (i%1000==0):\n",
    "            print(f\"i: {i}, loss: {loss:.3e}\")\n",
    "#             print(\"x_grad: \", x.grad)\n",
    "#             print(\"x: \", x)\n",
    "#             print(\"\\n\")\n",
    "    x.grad.zero_()    "
   ]
  },
  {
   "cell_type": "code",
   "execution_count": null,
   "id": "c96d578f",
   "metadata": {},
   "outputs": [],
   "source": []
  },
  {
   "cell_type": "code",
   "execution_count": 42,
   "id": "c4852151",
   "metadata": {},
   "outputs": [
    {
     "data": {
      "image/png": "[encoded data removed]",
      "text/plain": [
       "<Figure size 432x288 with 1 Axes>"
      ]
     },
     "metadata": {
      "needs_background": "light"
     },
     "output_type": "display_data"
    }
   ],
   "source": [
    "# Visu\n",
    "with torch.no_grad():\n",
    "    x_ref = scipy.sparse.linalg.spsolve(A_numpy.tocsr(),b_gt)\n",
    "    plt.plot(x_ref,'--k')\n",
    "    plt.plot(x,'or')"
   ]
  },
  {
   "cell_type": "markdown",
   "id": "a2e50892",
   "metadata": {},
   "source": [
    "### Comment\n",
    "It works but it is somehow incredibly slow\n",
    "\n",
    "## Using PyTorch's optiimzer"
   ]
  },
  {
   "cell_type": "code",
   "execution_count": 164,
   "id": "6061b981",
   "metadata": {},
   "outputs": [],
   "source": [
    "\n",
    "\n",
    "# Define the ground truth of the RHS\n",
    "# b_gt = -s*torch.ones(n,1)\n",
    "b_gt = -0.5*s/K*dx_sq*torch.ones(n,1)\n",
    "# Apply BC to RHS\n",
    "with torch.no_grad():\n",
    "    b_gt[0] = 0.0\n",
    "    b_gt[-1] = 1.0\n",
    "\n",
    "    \n",
    "def solve_w_torch(A,b_gt):\n",
    "#     loss_func = nn.MSELoss(reduction='mean')\n",
    "    loss_func = nn.MSELoss(reduction='mean')\n",
    "\n",
    "    \n",
    "    x = nn.Linear(n,1,bias=False)\n",
    "    \n",
    "    net = nn.Sequential(x)\n",
    "    # Define an optimizer\n",
    "    lr = 0.6\n",
    "#     trainer = torch.optim.SGD(net.parameters(), lr=lr)\n",
    "#     trainer = torch.optim.SGD(net.parameters(), lr=lr)\n",
    "    trainer = torch.optim.Adam(net.parameters())\n",
    "\n",
    "    loss = 1.0\n",
    "    i = 0\n",
    "    while loss>1e-6 and i<150000:\n",
    "\n",
    "        b = net(A)  \n",
    "        loss = loss_func(b,b_gt)\n",
    "#         loss = ((b-b_gt)**2).max()\n",
    "        trainer.zero_grad()\n",
    "        loss.backward()\n",
    "        trainer.step()\n",
    "        \n",
    "        if (i%5000==0):\n",
    "            \n",
    "            print(f\"i: {i}, loss : {loss:.3e}\")\n",
    "#             print(f\"i: {i}, loss2: {((b-b_gt)**2).max():.3e}\")\n",
    "        i+=1\n",
    "    return next(net.parameters())[0]\n",
    "    #             print(\"x_grad: \", x.grad)\n",
    "    #             print(\"x: \", x)\n",
    "    #             print(\"\\n\")\n",
    "\n"
   ]
  },
  {
   "cell_type": "code",
   "execution_count": 165,
   "id": "aa3dab41",
   "metadata": {},
   "outputs": [
    {
     "name": "stdout",
     "output_type": "stream",
     "text": [
      "timer: 0.00\n",
      "i: 0, loss : 3.269e-02\n",
      "i: 5000, loss : 3.645e-05\n",
      "i: 10000, loss : 2.005e-05\n",
      "i: 15000, loss : 1.342e-05\n",
      "i: 20000, loss : 9.024e-06\n",
      "i: 25000, loss : 6.070e-06\n",
      "i: 30000, loss : 4.083e-06\n",
      "i: 35000, loss : 2.745e-06\n",
      "i: 40000, loss : 1.849e-06\n",
      "i: 45000, loss : 1.253e-06\n",
      "timer: 14.37\n"
     ]
    },
    {
     "data": {
      "image/png": "[encoded data removed]",
      "text/plain": [
       "<Figure size 432x288 with 1 Axes>"
      ]
     },
     "metadata": {
      "needs_background": "light"
     },
     "output_type": "display_data"
    }
   ],
   "source": [
    "with timer():\n",
    "    x_ref = scipy.sparse.linalg.spsolve(A_numpy.tocsr(),b_gt)\n",
    "\n",
    "with timer():\n",
    "    x_torch = solve_w_torch(A,b_gt)\n",
    "\n",
    "with torch.no_grad():    \n",
    "    plt.plot(x_ref, '--k')    \n",
    "    plt.plot(x_torch, 'or')    "
   ]
  },
  {
   "cell_type": "code",
   "execution_count": 63,
   "id": "d9d493a7",
   "metadata": {},
   "outputs": [
    {
     "ename": "SyntaxError",
     "evalue": "invalid syntax (<ipython-input-63-654ed23f0562>, line 2)",
     "output_type": "error",
     "traceback": [
      "\u001b[0;36m  File \u001b[0;32m\"<ipython-input-63-654ed23f0562>\"\u001b[0;36m, line \u001b[0;32m2\u001b[0m\n\u001b[0;31m    plt.plot(x_ref, '--k')   5\u001b[0m\n\u001b[0m                             ^\u001b[0m\n\u001b[0;31mSyntaxError\u001b[0m\u001b[0;31m:\u001b[0m invalid syntax\n"
     ]
    }
   ],
   "source": [
    "with torch.no_grad():    \n",
    "    plt.plot(x_ref, '--k')   5\n",
    "    plt.plot(x_torch, 'or')    "
   ]
  },
  {
   "cell_type": "code",
   "execution_count": 162,
   "id": "e4c1f0f5",
   "metadata": {},
   "outputs": [
    {
     "data": {
      "text/plain": [
       "tensor([-4.4946e-04, -3.2671e-03, -2.4127e-03, -1.6396e-03, -9.7729e-04,\n",
       "        -4.4449e-04, -4.7848e-05,  2.1761e-04,  3.6659e-04,  4.2065e-04,\n",
       "         4.0476e-04,  3.4387e-04,  2.6005e-04,  1.7059e-04,  8.7222e-05,\n",
       "         1.6591e-05, -3.8394e-05, -7.6660e-05, -9.7139e-05, -9.7578e-05,\n",
       "        -7.4499e-05, -2.4566e-05,  5.2746e-05,  1.5176e-04,  2.5744e-04,\n",
       "         3.4383e-04,  3.7524e-04,  3.1129e-04,  1.1582e-04, -2.3097e-04,\n",
       "        -7.1953e-04, -1.2999e-03, -1.8761e-03, -2.3099e-03, -2.4345e-03,\n",
       "        -2.0801e-03, -1.1068e-03,  5.5878e-04,  2.8915e-03,  5.7472e-03,\n",
       "         8.8604e-03,  1.1865e-02,  1.4335e-02,  1.5845e-02,  1.6038e-02,\n",
       "         1.4688e-02,  1.1748e-02,  7.3708e-03,  1.9018e-03,  9.9696e-01],\n",
       "       grad_fn=<MvBackward>)"
      ]
     },
     "execution_count": 162,
     "metadata": {},
     "output_type": "execute_result"
    }
   ],
   "source": [
    "b"
   ]
  },
  {
   "cell_type": "code",
   "execution_count": 166,
   "id": "c2028a01",
   "metadata": {},
   "outputs": [
    {
     "data": {
      "text/plain": [
       "tensor([[ 0.0000],\n",
       "        [-0.0042],\n",
       "        [-0.0042],\n",
       "        [-0.0042],\n",
       "        [-0.0042],\n",
       "        [-0.0042],\n",
       "        [-0.0042],\n",
       "        [-0.0042],\n",
       "        [-0.0042],\n",
       "        [-0.0042],\n",
       "        [-0.0042],\n",
       "        [-0.0042],\n",
       "        [-0.0042],\n",
       "        [-0.0042],\n",
       "        [-0.0042],\n",
       "        [-0.0042],\n",
       "        [-0.0042],\n",
       "        [-0.0042],\n",
       "        [-0.0042],\n",
       "        [-0.0042],\n",
       "        [-0.0042],\n",
       "        [-0.0042],\n",
       "        [-0.0042],\n",
       "        [-0.0042],\n",
       "        [-0.0042],\n",
       "        [-0.0042],\n",
       "        [-0.0042],\n",
       "        [-0.0042],\n",
       "        [-0.0042],\n",
       "        [-0.0042],\n",
       "        [-0.0042],\n",
       "        [-0.0042],\n",
       "        [-0.0042],\n",
       "        [-0.0042],\n",
       "        [-0.0042],\n",
       "        [-0.0042],\n",
       "        [-0.0042],\n",
       "        [-0.0042],\n",
       "        [-0.0042],\n",
       "        [-0.0042],\n",
       "        [-0.0042],\n",
       "        [-0.0042],\n",
       "        [-0.0042],\n",
       "        [-0.0042],\n",
       "        [-0.0042],\n",
       "        [-0.0042],\n",
       "        [-0.0042],\n",
       "        [-0.0042],\n",
       "        [-0.0042],\n",
       "        [ 1.0000]])"
      ]
     },
     "execution_count": 166,
     "metadata": {},
     "output_type": "execute_result"
    }
   ],
   "source": [
    "b_gt"
   ]
  },
  {
   "cell_type": "code",
   "execution_count": null,
   "id": "0317443d",
   "metadata": {},
   "outputs": [],
   "source": []
  }
 ],
 "metadata": {
  "kernelspec": {
   "display_name": "Python 3",
   "language": "python",
   "name": "python3"
  },
  "language_info": {
   "codemirror_mode": {
    "name": "ipython",
    "version": 3
   },
   "file_extension": ".py",
   "mimetype": "text/x-python",
   "name": "python",
   "nbconvert_exporter": "python",
   "pygments_lexer": "ipython3",
   "version": "3.8.0"
  }
 },
 "nbformat": 4,
 "nbformat_minor": 5
}
