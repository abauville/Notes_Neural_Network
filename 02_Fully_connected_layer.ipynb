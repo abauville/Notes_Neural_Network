{
 "cells": [
  {
   "cell_type": "markdown",
   "id": "c33617ba",
   "metadata": {},
   "source": [
    "# Network of fully connected layers\n",
    "\n",
    "We define a fully connected neural network with two hidden layers. The input layer has 10 units and the output layer has 4 units."
   ]
  },
  {
   "cell_type": "code",
   "execution_count": 33,
   "id": "cc6e343f",
   "metadata": {},
   "outputs": [],
   "source": [
    "# Imports\n",
    "import torch\n",
    "import torch.nn as nn"
   ]
  },
  {
   "cell_type": "markdown",
   "id": "2ee0c2a5",
   "metadata": {},
   "source": [
    "## 1. Writing out all the linear algebra"
   ]
  },
  {
   "cell_type": "code",
   "execution_count": 47,
   "id": "5f29be01",
   "metadata": {},
   "outputs": [
    {
     "name": "stdout",
     "output_type": "stream",
     "text": [
      "tensor([263.7412, 299.5741, 284.1100, 299.7061])\n"
     ]
    }
   ],
   "source": [
    "# Input layer\n",
    "input_layer = torch.rand(10)\n",
    "\n",
    "# Weights\n",
    "# Weight matrices have size (n_units in previous layer, n_units in next layer)\n",
    "# The weights connect the current layer to the next layer\n",
    "# Here the first layer is the inpu; 1 and 2 are hidden, 3 is the output\n",
    "# Weights w3 connect the last hidden layer to the output layer\n",
    "w1 = torch.rand(10,20)\n",
    "w2 = torch.rand(20,20)\n",
    "w3 = torch.rand(20,4)\n",
    "\n",
    "# Each unit in a given layer perform an mathemtical operation\n",
    "# In this example we only perform multiply the weights and the previous unit values, i.e. linear model (without bias)\n",
    "# The units (or nodes) are h1 and h2 correspond to hidden layers 1 and 2.\n",
    "h1 = w1.T@input_layer\n",
    "h2 = w2.T@h1\n",
    "output_layer = w3.T@h2\n",
    "\n",
    "print(output_layer)"
   ]
  },
  {
   "cell_type": "markdown",
   "id": "59f665ac",
   "metadata": {},
   "source": [
    "## Building the neural net using torch.Module\n",
    "\n",
    "### Define a network as a class inheriting from nn.Module"
   ]
  },
  {
   "cell_type": "code",
   "execution_count": 48,
   "id": "512b481c",
   "metadata": {},
   "outputs": [],
   "source": [
    "class Net(nn.Module):\n",
    "    def __init__(self):\n",
    "        super(Net, self).__init__()\n",
    "        self.fc1 = nn.Linear(10,20)\n",
    "        self.fc2 = nn.Linear(20,20)\n",
    "        self.output = nn.Linear(20,4)\n",
    "        \n",
    "    def forward(self, x):\n",
    "        x = self.fc1(x)\n",
    "        x = self.fc2(x)\n",
    "        x = self.output(x)\n",
    "        return x"
   ]
  },
  {
   "cell_type": "markdown",
   "id": "303c7f3b",
   "metadata": {},
   "source": [
    "### Instantiate the class and compute the result"
   ]
  },
  {
   "cell_type": "code",
   "execution_count": 50,
   "id": "09eb3f1f",
   "metadata": {},
   "outputs": [
    {
     "name": "stdout",
     "output_type": "stream",
     "text": [
      "tensor([-0.1285, -0.0417, -0.0534, -0.1341], grad_fn=<AddBackward0>)\n"
     ]
    }
   ],
   "source": [
    "input_layer = torch.rand(10)\n",
    "net = Net()\n",
    "result = net(input_layer)\n",
    "print(result)"
   ]
  }
 ],
 "metadata": {
  "kernelspec": {
   "display_name": "Python 3",
   "language": "python",
   "name": "python3"
  },
  "language_info": {
   "codemirror_mode": {
    "name": "ipython",
    "version": 3
   },
   "file_extension": ".py",
   "mimetype": "text/x-python",
   "name": "python",
   "nbconvert_exporter": "python",
   "pygments_lexer": "ipython3",
   "version": "3.8.0"
  }
 },
 "nbformat": 4,
 "nbformat_minor": 5
}
