{
 "cells": [
  {
   "cell_type": "markdown",
   "id": "c5d06cf1",
   "metadata": {
    "id": "8f8e4eea"
   },
   "source": [
    "# Multi class classification"
   ]
  },
  {
   "cell_type": "code",
   "execution_count": 1,
   "id": "c5b78e0c",
   "metadata": {
    "executionInfo": {
     "elapsed": 796,
     "status": "ok",
     "timestamp": 1622101499865,
     "user": {
      "displayName": "Arthur Bauville",
      "photoUrl": "",
      "userId": "13412020910432312638"
     },
     "user_tz": -540
    },
    "id": "a085bbb1"
   },
   "outputs": [],
   "source": [
    "# Imports\n",
    "import numpy as np\n",
    "import torch\n",
    "from torch import nn\n",
    "import torch.nn.functional as F\n",
    "import torchvision\n",
    "import matplotlib.pyplot as plt\n",
    "from torchvision.transforms import ToTensor, Lambda\n",
    "from torchvision.datasets import FashionMNIST\n",
    "from torch.utils.data import DataLoader"
   ]
  },
  {
   "cell_type": "markdown",
   "id": "cb6df716",
   "metadata": {
    "id": "7512cd04"
   },
   "source": [
    "# Load data"
   ]
  },
  {
   "cell_type": "code",
   "execution_count": 2,
   "id": "e945dc8d",
   "metadata": {
    "executionInfo": {
     "elapsed": 4,
     "status": "ok",
     "timestamp": 1622101500081,
     "user": {
      "displayName": "Arthur Bauville",
      "photoUrl": "",
      "userId": "13412020910432312638"
     },
     "user_tz": -540
    },
    "id": "5138ab22"
   },
   "outputs": [],
   "source": [
    "# Datasets\n",
    "train_data = FashionMNIST('./Data', download=True, train=True, \n",
    "                          transform=ToTensor())\n",
    "\n",
    "test_data  = FashionMNIST('./Data', download=True, train=False, \n",
    "                          transform=ToTensor())\n",
    "\n",
    "# Dataloaders\n",
    "train_loader = DataLoader(train_data, batch_size=64, shuffle=True)\n",
    "test_loader = DataLoader(test_data , batch_size=64, shuffle=True)\n"
   ]
  },
  {
   "cell_type": "code",
   "execution_count": 3,
   "id": "fd7257c3",
   "metadata": {
    "colab": {
     "base_uri": "https://localhost:8080/",
     "height": 281
    },
    "executionInfo": {
     "elapsed": 978,
     "status": "ok",
     "timestamp": 1622101501056,
     "user": {
      "displayName": "Arthur Bauville",
      "photoUrl": "",
      "userId": "13412020910432312638"
     },
     "user_tz": -540
    },
    "id": "5700d50d",
    "outputId": "aa86885a-2bfe-472e-f48e-464cf883ef44"
   },
   "outputs": [
    {
     "data": {
      "image/png": "[encoded data removed]",
      "text/plain": [
       "<Figure size 432x288 with 1 Axes>"
      ]
     },
     "metadata": {
      "needs_background": "light"
     },
     "output_type": "display_data"
    }
   ],
   "source": [
    "# Sanity check\n",
    "X, y = next(iter(train_loader))\n",
    "plt.imshow(X[0,0])\n",
    "_ = plt.title(train_data.classes[y[0]])"
   ]
  },
  {
   "cell_type": "markdown",
   "id": "43c2510e",
   "metadata": {
    "id": "2cd03ec9"
   },
   "source": [
    "# Check GPU availability"
   ]
  },
  {
   "cell_type": "code",
   "execution_count": 4,
   "id": "a24a8995",
   "metadata": {
    "colab": {
     "base_uri": "https://localhost:8080/"
    },
    "executionInfo": {
     "elapsed": 9,
     "status": "ok",
     "timestamp": 1622101501057,
     "user": {
      "displayName": "Arthur Bauville",
      "photoUrl": "",
      "userId": "13412020910432312638"
     },
     "user_tz": -540
    },
    "id": "5bd1f332",
    "outputId": "7d843451-c65d-4ee8-8c13-87acf8f3190a"
   },
   "outputs": [
    {
     "name": "stdout",
     "output_type": "stream",
     "text": [
      "Using cpu device\n"
     ]
    }
   ],
   "source": [
    "device = 'cuda' if torch.cuda.is_available() else 'cpu'\n",
    "print(f'Using {device} device')"
   ]
  },
  {
   "cell_type": "markdown",
   "id": "ac88930e",
   "metadata": {
    "id": "abd82b84"
   },
   "source": [
    "# Network class"
   ]
  },
  {
   "cell_type": "code",
   "execution_count": 9,
   "id": "b855f1cb",
   "metadata": {
    "executionInfo": {
     "elapsed": 219,
     "status": "ok",
     "timestamp": 1622101932895,
     "user": {
      "displayName": "Arthur Bauville",
      "photoUrl": "",
      "userId": "13412020910432312638"
     },
     "user_tz": -540
    },
    "id": "0a3f60db"
   },
   "outputs": [],
   "source": [
    "class NeuralNetwork(nn.Module):\n",
    "    def __init__(self):\n",
    "        super(NeuralNetwork, self).__init__()\n",
    "        # Input: 28*28 image\n",
    "        # Output 10 classes\n",
    "        self.flatten = nn.Flatten()\n",
    "        self.fc1 = nn.Linear(28*28, 512)\n",
    "        self.fc2 = nn.Linear(512, 256)\n",
    "        self.fc3 = nn.Linear(256, 10)\n",
    "    def forward(self,x):\n",
    "        x = self.flatten(x)\n",
    "        x = F.relu(self.fc1(x))\n",
    "        x = F.relu(self.fc2(x))\n",
    "        x = F.relu(self.fc3(x))\n",
    "\n",
    "        return x"
   ]
  },
  {
   "cell_type": "markdown",
   "id": "52409c21",
   "metadata": {
    "id": "7c025da9"
   },
   "source": [
    "# Train, test functions"
   ]
  },
  {
   "cell_type": "code",
   "execution_count": 10,
   "id": "dde857e8",
   "metadata": {
    "executionInfo": {
     "elapsed": 3,
     "status": "ok",
     "timestamp": 1622101933242,
     "user": {
      "displayName": "Arthur Bauville",
      "photoUrl": "",
      "userId": "13412020910432312638"
     },
     "user_tz": -540
    },
    "id": "ce3a3779"
   },
   "outputs": [],
   "source": [
    "def train_loop(dataloader, model, loss_fn, optimizer):\n",
    "    size = len(dataloader.dataset)\n",
    "    n_batch = int(np.floor(size/dataloader.batch_size))\n",
    "    for i_batch, (X, y) in enumerate(dataloader):\n",
    "        X = X.to(device)\n",
    "        y = y.to(device)\n",
    "        logits = model(X)\n",
    "        loss = loss_fn(logits,y)\n",
    "        optimizer.zero_grad()\n",
    "        loss.backward()\n",
    "        optimizer.step()\n",
    "        \n",
    "        if not(i_batch % int(n_batch/5)):\n",
    "            print(f'batch: [{i_batch}/{n_batch}], loss: {loss:.2e}')\n",
    "            \n",
    "# def test_loop\n",
    "def test_loop(dataloader,model,loss_fn):\n",
    "    size = len(dataloader.dataset)\n",
    "    accuracy, loss = 0, 0\n",
    "    with torch.no_grad():\n",
    "        for i_batch, (X,y) in enumerate(dataloader):\n",
    "            X = X.to(device)\n",
    "            y = y.to(device)\n",
    "\n",
    "            logits = model(X)\n",
    "            y_pred = logits.argmax(1)\n",
    "            loss += loss_fn(logits,y).item()\n",
    "            accuracy += (y_pred==y).sum().item()\n",
    "\n",
    "    loss/=size\n",
    "    accuracy/=size\n",
    "    print(f\"accuracy: {accuracy:.2e}, loss:{loss:.2e}\")\n",
    "        "
   ]
  },
  {
   "cell_type": "markdown",
   "id": "8468814e",
   "metadata": {
    "id": "7b37f0e7"
   },
   "source": [
    "# Run"
   ]
  },
  {
   "cell_type": "code",
   "execution_count": 11,
   "id": "380f881a",
   "metadata": {
    "executionInfo": {
     "elapsed": 557,
     "status": "ok",
     "timestamp": 1622102719583,
     "user": {
      "displayName": "Arthur Bauville",
      "photoUrl": "",
      "userId": "13412020910432312638"
     },
     "user_tz": -540
    },
    "id": "f3b6cb20"
   },
   "outputs": [],
   "source": [
    "n_epoch = 20\n",
    "net = NeuralNetwork().to(device)\n",
    "loss_fn = nn.CrossEntropyLoss()\n",
    "optimizer = torch.optim.Adam(net.parameters(), lr=1e-3)"
   ]
  },
  {
   "cell_type": "code",
   "execution_count": 12,
   "id": "48fcfc0a",
   "metadata": {
    "colab": {
     "base_uri": "https://localhost:8080/"
    },
    "executionInfo": {
     "elapsed": 114494,
     "status": "ok",
     "timestamp": 1622102834417,
     "user": {
      "displayName": "Arthur Bauville",
      "photoUrl": "",
      "userId": "13412020910432312638"
     },
     "user_tz": -540
    },
    "id": "37cd6762",
    "outputId": "bff7a92d-f8d4-4472-a103-4e59eccf6d76"
   },
   "outputs": [
    {
     "name": "stdout",
     "output_type": "stream",
     "text": [
      "\n",
      "Epoch 0 =============\n",
      "batch: [0/937], loss: 2.30e+00\n",
      "batch: [187/937], loss: 1.25e+00\n",
      "batch: [374/937], loss: 1.34e+00\n",
      "batch: [561/937], loss: 1.12e+00\n",
      "batch: [748/937], loss: 1.14e+00\n",
      "batch: [935/937], loss: 1.20e+00\n",
      "accuracy: 4.98e-01, loss:2.07e-02\n",
      "\n",
      "Epoch 1 =============\n",
      "batch: [0/937], loss: 1.51e+00\n",
      "batch: [187/937], loss: 1.26e+00\n",
      "batch: [374/937], loss: 1.19e+00\n",
      "batch: [561/937], loss: 1.06e+00\n",
      "batch: [748/937], loss: 1.15e+00\n",
      "batch: [935/937], loss: 9.72e-01\n",
      "accuracy: 5.29e-01, loss:1.92e-02\n",
      "\n",
      "Epoch 2 =============\n",
      "batch: [0/937], loss: 1.06e+00\n",
      "batch: [187/937], loss: 1.31e+00\n",
      "batch: [374/937], loss: 1.08e+00\n",
      "batch: [561/937], loss: 1.32e+00\n",
      "batch: [748/937], loss: 1.15e+00\n",
      "batch: [935/937], loss: 1.28e+00\n",
      "accuracy: 5.27e-01, loss:1.91e-02\n",
      "\n",
      "Epoch 3 =============\n",
      "batch: [0/937], loss: 1.07e+00\n",
      "batch: [187/937], loss: 1.11e+00\n",
      "batch: [374/937], loss: 9.92e-01\n",
      "batch: [561/937], loss: 8.73e-01\n",
      "batch: [748/937], loss: 1.33e+00\n",
      "batch: [935/937], loss: 1.08e+00\n",
      "accuracy: 5.37e-01, loss:1.90e-02\n",
      "\n",
      "Epoch 4 =============\n",
      "batch: [0/937], loss: 1.09e+00\n",
      "batch: [187/937], loss: 9.37e-01\n",
      "batch: [374/937], loss: 1.24e+00\n",
      "batch: [561/937], loss: 9.94e-01\n",
      "batch: [748/937], loss: 1.21e+00\n",
      "batch: [935/937], loss: 1.05e+00\n",
      "accuracy: 5.31e-01, loss:1.87e-02\n",
      "\n",
      "Epoch 5 =============\n",
      "batch: [0/937], loss: 1.61e+00\n",
      "batch: [187/937], loss: 1.09e+00\n",
      "batch: [374/937], loss: 1.48e+00\n",
      "batch: [561/937], loss: 1.32e+00\n",
      "batch: [748/937], loss: 1.32e+00\n",
      "batch: [935/937], loss: 1.07e+00\n",
      "accuracy: 5.34e-01, loss:1.87e-02\n",
      "\n",
      "Epoch 6 =============\n",
      "batch: [0/937], loss: 9.63e-01\n",
      "batch: [187/937], loss: 1.07e+00\n",
      "batch: [374/937], loss: 1.19e+00\n",
      "batch: [561/937], loss: 1.05e+00\n",
      "batch: [748/937], loss: 1.11e+00\n",
      "batch: [935/937], loss: 1.19e+00\n",
      "accuracy: 5.37e-01, loss:1.86e-02\n",
      "\n",
      "Epoch 7 =============\n",
      "batch: [0/937], loss: 8.40e-01\n",
      "batch: [187/937], loss: 1.06e+00\n",
      "batch: [374/937], loss: 1.38e+00\n",
      "batch: [561/937], loss: 1.49e+00\n",
      "batch: [748/937], loss: 1.28e+00\n",
      "batch: [935/937], loss: 1.07e+00\n",
      "accuracy: 5.35e-01, loss:1.86e-02\n",
      "\n",
      "Epoch 8 =============\n",
      "batch: [0/937], loss: 9.86e-01\n",
      "batch: [187/937], loss: 9.55e-01\n",
      "batch: [374/937], loss: 1.19e+00\n",
      "batch: [561/937], loss: 1.04e+00\n",
      "batch: [748/937], loss: 1.10e+00\n",
      "batch: [935/937], loss: 1.02e+00\n",
      "accuracy: 5.36e-01, loss:1.86e-02\n",
      "\n",
      "Epoch 9 =============\n",
      "batch: [0/937], loss: 1.06e+00\n",
      "batch: [187/937], loss: 1.22e+00\n",
      "batch: [374/937], loss: 1.24e+00\n",
      "batch: [561/937], loss: 1.00e+00\n",
      "batch: [748/937], loss: 1.06e+00\n",
      "batch: [935/937], loss: 9.61e-01\n",
      "accuracy: 5.44e-01, loss:1.83e-02\n",
      "\n",
      "Epoch 10 =============\n",
      "batch: [0/937], loss: 1.16e+00\n",
      "batch: [187/937], loss: 1.30e+00\n",
      "batch: [374/937], loss: 1.09e+00\n",
      "batch: [561/937], loss: 1.05e+00\n",
      "batch: [748/937], loss: 1.06e+00\n",
      "batch: [935/937], loss: 9.21e-01\n",
      "accuracy: 5.44e-01, loss:1.88e-02\n",
      "\n",
      "Epoch 11 =============\n",
      "batch: [0/937], loss: 8.31e-01\n",
      "batch: [187/937], loss: 8.92e-01\n",
      "batch: [374/937], loss: 1.57e+00\n",
      "batch: [561/937], loss: 1.02e+00\n",
      "batch: [748/937], loss: 8.89e-01\n",
      "batch: [935/937], loss: 1.07e+00\n",
      "accuracy: 5.41e-01, loss:1.86e-02\n",
      "\n",
      "Epoch 12 =============\n",
      "batch: [0/937], loss: 9.72e-01\n",
      "batch: [187/937], loss: 9.45e-01\n",
      "batch: [374/937], loss: 1.02e+00\n",
      "batch: [561/937], loss: 1.26e+00\n",
      "batch: [748/937], loss: 1.08e+00\n",
      "batch: [935/937], loss: 1.10e+00\n",
      "accuracy: 5.42e-01, loss:1.88e-02\n",
      "\n",
      "Epoch 13 =============\n",
      "batch: [0/937], loss: 1.05e+00\n",
      "batch: [187/937], loss: 9.09e-01\n",
      "batch: [374/937], loss: 9.06e-01\n",
      "batch: [561/937], loss: 1.28e+00\n",
      "batch: [748/937], loss: 1.15e+00\n",
      "batch: [935/937], loss: 7.96e-01\n",
      "accuracy: 5.38e-01, loss:1.86e-02\n",
      "\n",
      "Epoch 14 =============\n",
      "batch: [0/937], loss: 9.24e-01\n",
      "batch: [187/937], loss: 9.68e-01\n",
      "batch: [374/937], loss: 1.25e+00\n",
      "batch: [561/937], loss: 7.85e-01\n",
      "batch: [748/937], loss: 9.19e-01\n",
      "batch: [935/937], loss: 1.20e+00\n",
      "accuracy: 5.43e-01, loss:1.89e-02\n",
      "\n",
      "Epoch 15 =============\n",
      "batch: [0/937], loss: 1.02e+00\n",
      "batch: [187/937], loss: 1.12e+00\n",
      "batch: [374/937], loss: 9.72e-01\n",
      "batch: [561/937], loss: 1.07e+00\n",
      "batch: [748/937], loss: 9.71e-01\n",
      "batch: [935/937], loss: 9.50e-01\n",
      "accuracy: 5.42e-01, loss:1.89e-02\n",
      "\n",
      "Epoch 16 =============\n",
      "batch: [0/937], loss: 1.10e+00\n",
      "batch: [187/937], loss: 9.78e-01\n",
      "batch: [374/937], loss: 1.24e+00\n",
      "batch: [561/937], loss: 9.98e-01\n",
      "batch: [748/937], loss: 8.24e-01\n",
      "batch: [935/937], loss: 9.79e-01\n",
      "accuracy: 5.38e-01, loss:1.88e-02\n",
      "\n",
      "Epoch 17 =============\n",
      "batch: [0/937], loss: 1.15e+00\n",
      "batch: [187/937], loss: 9.60e-01\n",
      "batch: [374/937], loss: 1.17e+00\n",
      "batch: [561/937], loss: 1.10e+00\n",
      "batch: [748/937], loss: 1.16e+00\n",
      "batch: [935/937], loss: 9.46e-01\n",
      "accuracy: 5.41e-01, loss:1.87e-02\n",
      "\n",
      "Epoch 18 =============\n",
      "batch: [0/937], loss: 1.04e+00\n",
      "batch: [187/937], loss: 1.12e+00\n",
      "batch: [374/937], loss: 8.93e-01\n",
      "batch: [561/937], loss: 9.76e-01\n",
      "batch: [748/937], loss: 1.11e+00\n",
      "batch: [935/937], loss: 1.14e+00\n",
      "accuracy: 5.44e-01, loss:1.91e-02\n",
      "\n",
      "Epoch 19 =============\n",
      "batch: [0/937], loss: 1.18e+00\n",
      "batch: [187/937], loss: 7.96e-01\n",
      "batch: [374/937], loss: 1.13e+00\n",
      "batch: [561/937], loss: 1.15e+00\n",
      "batch: [748/937], loss: 1.12e+00\n",
      "batch: [935/937], loss: 1.20e+00\n",
      "accuracy: 5.39e-01, loss:1.86e-02\n"
     ]
    }
   ],
   "source": [
    "for epoch in range(n_epoch):\n",
    "    print(f\"\\nEpoch {epoch} =============\")\n",
    "    train_loop(train_loader, net, loss_fn, optimizer)\n",
    "    test_loop(test_loader, net, loss_fn)\n"
   ]
  },
  {
   "cell_type": "code",
   "execution_count": null,
   "id": "f250fcde",
   "metadata": {
    "executionInfo": {
     "elapsed": 8,
     "status": "aborted",
     "timestamp": 1622101606607,
     "user": {
      "displayName": "Arthur Bauville",
      "photoUrl": "",
      "userId": "13412020910432312638"
     },
     "user_tz": -540
    },
    "id": "9aca4cf6"
   },
   "outputs": [],
   "source": []
  },
  {
   "cell_type": "code",
   "execution_count": null,
   "id": "df103f75",
   "metadata": {
    "executionInfo": {
     "elapsed": 8,
     "status": "aborted",
     "timestamp": 1622101606608,
     "user": {
      "displayName": "Arthur Bauville",
      "photoUrl": "",
      "userId": "13412020910432312638"
     },
     "user_tz": -540
    },
    "id": "0e0f6a94"
   },
   "outputs": [],
   "source": []
  }
 ],
 "metadata": {
  "accelerator": "GPU",
  "colab": {
   "collapsed_sections": [],
   "name": "04_Classification.ipynb",
   "provenance": []
  },
  "kernelspec": {
   "display_name": "Python 3",
   "language": "python",
   "name": "python3"
  },
  "language_info": {
   "codemirror_mode": {
    "name": "ipython",
    "version": 3
   },
   "file_extension": ".py",
   "mimetype": "text/x-python",
   "name": "python",
   "nbconvert_exporter": "python",
   "pygments_lexer": "ipython3",
   "version": "3.8.0"
  }
 },
 "nbformat": 4,
 "nbformat_minor": 5
}
