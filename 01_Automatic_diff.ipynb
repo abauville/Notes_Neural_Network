{
 "cells": [
  {
   "cell_type": "markdown",
   "id": "fbe26ba7",
   "metadata": {},
   "source": [
    "# Auto-differentation with PyTorch"
   ]
  },
  {
   "cell_type": "code",
   "execution_count": 1,
   "id": "ab6d94d8",
   "metadata": {},
   "outputs": [],
   "source": [
    "# imports\n",
    "import torch"
   ]
  },
  {
   "cell_type": "markdown",
   "id": "0b775449",
   "metadata": {},
   "source": [
    "## Define some inputs"
   ]
  },
  {
   "cell_type": "code",
   "execution_count": 2,
   "id": "e00bf157",
   "metadata": {},
   "outputs": [],
   "source": [
    "\n",
    "x = torch.tensor(-3., requires_grad=True)\n",
    "y = torch.tensor( 5., requires_grad=True)\n",
    "z = torch.tensor(-2., requires_grad=True)"
   ]
  },
  {
   "cell_type": "markdown",
   "id": "63d16c51",
   "metadata": {},
   "source": [
    "## Apply some operations\n"
   ]
  },
  {
   "cell_type": "code",
   "execution_count": 3,
   "id": "3e68e079",
   "metadata": {},
   "outputs": [],
   "source": [
    "q = x+y\n",
    "f = q*z"
   ]
  },
  {
   "cell_type": "markdown",
   "id": "8596f82a",
   "metadata": {},
   "source": [
    "## Specify the function to which we will apply derivatives"
   ]
  },
  {
   "cell_type": "code",
   "execution_count": 4,
   "id": "c97e8eb8",
   "metadata": {},
   "outputs": [],
   "source": [
    "f.backward()"
   ]
  },
  {
   "cell_type": "markdown",
   "id": "383c8331",
   "metadata": {},
   "source": [
    "## Compute the derivatives of function with respect to variables x, y, z\n",
    "i.e. compute the individual components of the gradient vector of the scalar function `f` in the space `x, y, z`\n",
    "\n",
    "$\\begin{align}\n",
    "    \\nabla f &= \\begin{bmatrix}\n",
    "           \\frac{d f}{d x} \\\\\n",
    "           \\frac{d f}{d y} \\\\\n",
    "           \\frac{d f}{d z} \\\\\n",
    "         \\end{bmatrix}\n",
    "  \\end{align}$"
   ]
  },
  {
   "cell_type": "code",
   "execution_count": 5,
   "id": "5c06c6b4",
   "metadata": {},
   "outputs": [
    {
     "name": "stdout",
     "output_type": "stream",
     "text": [
      "df/dx: -2.0\n",
      "df/dy: -2.0\n",
      "df/dz: 2.0\n"
     ]
    }
   ],
   "source": [
    "print(f\"df/dx: {x.grad}\")\n",
    "print(f\"df/dy: {y.grad}\")\n",
    "print(f\"df/dz: {z.grad}\")"
   ]
  }
 ],
 "metadata": {
  "kernelspec": {
   "display_name": "Python 3",
   "language": "python",
   "name": "python3"
  },
  "language_info": {
   "codemirror_mode": {
    "name": "ipython",
    "version": 3
   },
   "file_extension": ".py",
   "mimetype": "text/x-python",
   "name": "python",
   "nbconvert_exporter": "python",
   "pygments_lexer": "ipython3",
   "version": "3.8.0"
  }
 },
 "nbformat": 4,
 "nbformat_minor": 5
}
