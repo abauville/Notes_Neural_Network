{
 "cells": [
  {
   "cell_type": "markdown",
   "id": "f7cf485a",
   "metadata": {},
   "source": [
    "# Classification using a convolutional neural network"
   ]
  },
  {
   "cell_type": "code",
   "execution_count": 1,
   "id": "c9e230ae",
   "metadata": {},
   "outputs": [],
   "source": [
    "# Imports\n",
    "import numpy as np\n",
    "import torch\n",
    "from torch import nn\n",
    "import torch.nn.functional as F\n",
    "import torchvision\n",
    "import matplotlib.pyplot as plt\n",
    "from torchvision.transforms import ToTensor, Lambda\n",
    "from torchvision.datasets import FashionMNIST\n",
    "from torch.utils.data import DataLoader"
   ]
  },
  {
   "cell_type": "code",
   "execution_count": 146,
   "id": "8ad4f3fb",
   "metadata": {},
   "outputs": [],
   "source": [
    "# Helper func\n",
    "class PrintSize(nn.Module):\n",
    "    def __init__(self):\n",
    "        super(PrintSize, self).__init__()\n",
    "    \n",
    "    def forward(self, x):\n",
    "        print(f\"layer shape: {x.shape}\")\n",
    "        return x"
   ]
  },
  {
   "cell_type": "markdown",
   "id": "c2313aa7",
   "metadata": {},
   "source": [
    "# Import data"
   ]
  },
  {
   "cell_type": "code",
   "execution_count": 147,
   "id": "15405c0a",
   "metadata": {},
   "outputs": [],
   "source": [
    "# Datasets\n",
    "train_data = FashionMNIST('./Data', download=True, train=True, \n",
    "                          transform=ToTensor())\n",
    "\n",
    "test_data  = FashionMNIST('./Data', download=True, train=False, \n",
    "                          transform=ToTensor())\n",
    "\n",
    "# Dataloaders\n",
    "train_loader = DataLoader(train_data, batch_size=64, shuffle=True)\n",
    "test_loader = DataLoader(test_data , batch_size=64, shuffle=True)"
   ]
  },
  {
   "cell_type": "markdown",
   "id": "b8f27cd2",
   "metadata": {},
   "source": [
    "# Neural network class"
   ]
  },
  {
   "cell_type": "code",
   "execution_count": 345,
   "id": "3a1731e5",
   "metadata": {},
   "outputs": [],
   "source": [
    "class CNN(nn.Module):\n",
    "    def __init__(self):\n",
    "        super(CNN,self).__init__()\n",
    "        n_input = 28*28\n",
    "        n_output = 10\n",
    "        self.block = nn.Sequential(\n",
    "                    nn.Conv2d(1,32,kernel_size=7),\n",
    "                    nn.ReLU(),\n",
    "                    nn.Dropout(),\n",
    "                    nn.Conv2d(32,32,kernel_size=7),\n",
    "                    nn.ReLU(),\n",
    "                    nn.Dropout(),\n",
    "                    nn.Conv2d(32,32,kernel_size=7),\n",
    "                    nn.ReLU(),\n",
    "                    nn.Dropout(),\n",
    "                    nn.MaxPool2d(2),\n",
    "            \n",
    "#                     nn.Conv2d(12,12,kernel_size=3),\n",
    "#                     nn.ReLU(),\n",
    "#                     nn.Conv2d(12,12,kernel_size=3),\n",
    "#                     nn.ReLU(),\n",
    "#                     nn.MaxPool2d(2),\n",
    "            \n",
    "            \n",
    "                    nn.Flatten(),\n",
    "#                     PrintSize(),\n",
    "                    nn.Linear(800,32),\n",
    "                    nn.ReLU(),\n",
    "                    nn.Dropout(),\n",
    "                    nn.Linear(32,n_output),\n",
    "                    nn.ReLU()\n",
    "                            )\n",
    "#         self.block = nn.Sequential(\n",
    "#                     nn.Flatten(),\n",
    "#                     nn.Linear(n_input,32),\n",
    "#                     nn.ReLU(),\n",
    "#                     nn.Linear(32,n_output),\n",
    "#                     nn.ReLU()\n",
    "#                     )\n",
    "    def forward(self,x):\n",
    "        x = self.block(x)\n",
    "        return x"
   ]
  },
  {
   "cell_type": "markdown",
   "id": "00abe301",
   "metadata": {},
   "source": [
    "# Train, test functions"
   ]
  },
  {
   "cell_type": "code",
   "execution_count": 346,
   "id": "411e3458",
   "metadata": {},
   "outputs": [],
   "source": [
    "def train(train_loader, model, loss_fn, optimizer):\n",
    "    size = len(train_loader)\n",
    "    batch_size = train_loader.batch_size\n",
    "    for i, (X,y) in enumerate(train_loader):\n",
    "        logits = model(X)\n",
    "        loss = loss_fn(logits,y)\n",
    "        optimizer.zero_grad()\n",
    "        loss.backward()\n",
    "        optimizer.step()\n",
    "        if i%int(size/5)==0:\n",
    "            print(f\"[{i*batch_size:05d}/{size*batch_size}] loss: {loss:.2e}\")\n",
    "            \n",
    "def test(test_loader, model, loss_fn):\n",
    "    size = len(train_loader)\n",
    "    batch_size = train_loader.batch_size\n",
    "    loss = 0\n",
    "    accuracy = 0\n",
    "    with torch.no_grad():\n",
    "        for i, (X,y) in enumerate(test_loader):\n",
    "            logits = model(X)\n",
    "            loss += loss_fn(logits,y).item()\n",
    "            accuracy += (logits.argmax(1)==y).sum().item()\n",
    "        loss /= size\n",
    "        accuracy /= size\n",
    "        print(f\"test loss: {loss:.2e}, accuracy: {accuracy:.3f}\")"
   ]
  },
  {
   "cell_type": "markdown",
   "id": "9370cab3",
   "metadata": {},
   "source": [
    "# Run"
   ]
  },
  {
   "cell_type": "code",
   "execution_count": 347,
   "id": "b9268064",
   "metadata": {},
   "outputs": [],
   "source": [
    "# Define model and hyperparameters\n",
    "net = CNN()\n",
    "_ = net(next(iter(train_loader))[0])\n",
    "\n",
    "loss_fn = nn.CrossEntropyLoss()\n",
    "optimizer = torch.optim.Adam(net.parameters())\n",
    "n_epoch = 6"
   ]
  },
  {
   "cell_type": "code",
   "execution_count": 348,
   "id": "2e75cbf0",
   "metadata": {},
   "outputs": [
    {
     "name": "stdout",
     "output_type": "stream",
     "text": [
      "Epoch #00 =============\n",
      "[00000/60032] loss: 2.31e+00\n",
      "[11968/60032] loss: 1.41e+00\n",
      "[23936/60032] loss: 1.14e+00\n",
      "[35904/60032] loss: 9.49e-01\n",
      "[47872/60032] loss: 1.48e+00\n",
      "[59840/60032] loss: 8.08e-01\n",
      "test loss: 1.40e-01, accuracy: 7.559\n",
      "Epoch #01 =============\n",
      "[00000/60032] loss: 7.76e-01\n",
      "[11968/60032] loss: 8.92e-01\n",
      "[23936/60032] loss: 7.39e-01\n",
      "[35904/60032] loss: 6.82e-01\n",
      "[47872/60032] loss: 7.34e-01\n",
      "[59840/60032] loss: 4.28e-01\n",
      "test loss: 1.09e-01, accuracy: 8.129\n",
      "Epoch #02 =============\n",
      "[00000/60032] loss: 8.06e-01\n",
      "[11968/60032] loss: 5.44e-01\n",
      "[23936/60032] loss: 6.64e-01\n",
      "[35904/60032] loss: 4.86e-01\n",
      "[47872/60032] loss: 7.33e-01\n",
      "[59840/60032] loss: 6.21e-01\n",
      "test loss: 9.87e-02, accuracy: 8.485\n",
      "Epoch #03 =============\n",
      "[00000/60032] loss: 5.51e-01\n",
      "[11968/60032] loss: 6.02e-01\n",
      "[23936/60032] loss: 6.30e-01\n",
      "[35904/60032] loss: 5.76e-01\n",
      "[47872/60032] loss: 6.18e-01\n",
      "[59840/60032] loss: 5.58e-01\n",
      "test loss: 8.85e-02, accuracy: 8.728\n",
      "Epoch #04 =============\n",
      "[00000/60032] loss: 5.19e-01\n",
      "[11968/60032] loss: 3.87e-01\n",
      "[23936/60032] loss: 5.37e-01\n",
      "[35904/60032] loss: 4.15e-01\n",
      "[47872/60032] loss: 6.05e-01\n",
      "[59840/60032] loss: 6.44e-01\n",
      "test loss: 8.59e-02, accuracy: 8.753\n",
      "Epoch #05 =============\n",
      "[00000/60032] loss: 4.03e-01\n",
      "[11968/60032] loss: 4.68e-01\n",
      "[23936/60032] loss: 4.94e-01\n",
      "[35904/60032] loss: 7.78e-01\n",
      "[47872/60032] loss: 5.98e-01\n",
      "[59840/60032] loss: 3.78e-01\n",
      "test loss: 8.25e-02, accuracy: 8.828\n"
     ]
    }
   ],
   "source": [
    "# Run\n",
    "for i_epoch in range(n_epoch):\n",
    "    print(f\"Epoch #{i_epoch:02d} =============\")\n",
    "    train(train_loader, net, loss_fn, optimizer)\n",
    "    test(test_loader,net,loss_fn)"
   ]
  },
  {
   "cell_type": "markdown",
   "id": "46055210",
   "metadata": {},
   "source": [
    "# Visualize the learned parameters"
   ]
  },
  {
   "cell_type": "code",
   "execution_count": 311,
   "id": "7aded927",
   "metadata": {},
   "outputs": [
    {
     "name": "stdout",
     "output_type": "stream",
     "text": [
      "0\n",
      "0\n",
      "0\n",
      "0\n",
      "0\n",
      "0\n",
      "0\n",
      "0\n",
      "0\n",
      "0\n",
      "0\n",
      "0\n",
      "2\n"
     ]
    },
    {
     "ename": "RuntimeError",
     "evalue": "shape '[7, 7]' is invalid for input of size 588",
     "output_type": "error",
     "traceback": [
      "\u001b[0;31m---------------------------------------------------------------------------\u001b[0m",
      "\u001b[0;31mRuntimeError\u001b[0m                              Traceback (most recent call last)",
      "\u001b[0;32m<ipython-input-311-676cb863d656>\u001b[0m in \u001b[0;36m<module>\u001b[0;34m\u001b[0m\n\u001b[1;32m      9\u001b[0m             \u001b[0mprint\u001b[0m\u001b[0;34m(\u001b[0m\u001b[0mi_layer\u001b[0m\u001b[0;34m)\u001b[0m\u001b[0;34m\u001b[0m\u001b[0;34m\u001b[0m\u001b[0m\n\u001b[1;32m     10\u001b[0m             \u001b[0mplt\u001b[0m\u001b[0;34m.\u001b[0m\u001b[0msca\u001b[0m\u001b[0;34m(\u001b[0m\u001b[0max\u001b[0m\u001b[0;34m[\u001b[0m\u001b[0mii\u001b[0m\u001b[0;34m,\u001b[0m\u001b[0mik\u001b[0m\u001b[0;34m]\u001b[0m\u001b[0;34m)\u001b[0m\u001b[0;34m\u001b[0m\u001b[0;34m\u001b[0m\u001b[0m\n\u001b[0;32m---> 11\u001b[0;31m             \u001b[0mplt\u001b[0m\u001b[0;34m.\u001b[0m\u001b[0mimshow\u001b[0m\u001b[0;34m(\u001b[0m\u001b[0mkernel\u001b[0m\u001b[0;34m.\u001b[0m\u001b[0mreshape\u001b[0m\u001b[0;34m(\u001b[0m\u001b[0;34m(\u001b[0m\u001b[0;36m7\u001b[0m\u001b[0;34m,\u001b[0m\u001b[0;36m7\u001b[0m\u001b[0;34m)\u001b[0m\u001b[0;34m)\u001b[0m\u001b[0;34m)\u001b[0m\u001b[0;34m\u001b[0m\u001b[0;34m\u001b[0m\u001b[0m\n\u001b[0m\u001b[1;32m     12\u001b[0m             \u001b[0mplt\u001b[0m\u001b[0;34m.\u001b[0m\u001b[0maxis\u001b[0m\u001b[0;34m(\u001b[0m\u001b[0;34m'off'\u001b[0m\u001b[0;34m)\u001b[0m\u001b[0;34m\u001b[0m\u001b[0;34m\u001b[0m\u001b[0m\n\u001b[1;32m     13\u001b[0m \u001b[0;34m\u001b[0m\u001b[0m\n",
      "\u001b[0;31mRuntimeError\u001b[0m: shape '[7, 7]' is invalid for input of size 588"
     ]
    },
    {
     "data": {
      "image/png": "[encoded data removed]",
      "text/plain": [
       "<Figure size 1080x1080 with 120 Axes>"
      ]
     },
     "metadata": {
      "needs_background": "light"
     },
     "output_type": "display_data"
    }
   ],
   "source": [
    "i_layer = 0\n",
    "n_layers = 10\n",
    "max_n_kernel = 12\n",
    "fig, ax = plt.subplots(n_layers,max_n_kernel,figsize=[15,15])\n",
    "with torch.no_grad():\n",
    "    ii = 0\n",
    "    for i_layer in [0,2,4,5,7,9,10]:\n",
    "        for ik, kernel in enumerate(list(net.parameters())[i_layer]):\n",
    "            print(i_layer)\n",
    "            plt.sca(ax[ii,ik])\n",
    "            plt.imshow(kernel.reshape((7,7)))\n",
    "            plt.axis('off')\n",
    "    "
   ]
  },
  {
   "cell_type": "code",
   "execution_count": 338,
   "id": "cafe3cba",
   "metadata": {},
   "outputs": [
    {
     "data": {
      "text/plain": [
       "torch.Size([12, 12, 7, 7])"
      ]
     },
     "execution_count": 338,
     "metadata": {},
     "output_type": "execute_result"
    }
   ],
   "source": [
    "list(net.parameters())[4].shape"
   ]
  },
  {
   "cell_type": "code",
   "execution_count": null,
   "id": "62271658",
   "metadata": {},
   "outputs": [],
   "source": []
  }
 ],
 "metadata": {
  "kernelspec": {
   "display_name": "Python 3",
   "language": "python",
   "name": "python3"
  },
  "language_info": {
   "codemirror_mode": {
    "name": "ipython",
    "version": 3
   },
   "file_extension": ".py",
   "mimetype": "text/x-python",
   "name": "python",
   "nbconvert_exporter": "python",
   "pygments_lexer": "ipython3",
   "version": "3.8.0"
  }
 },
 "nbformat": 4,
 "nbformat_minor": 5
}
